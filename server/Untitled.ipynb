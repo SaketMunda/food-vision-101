{
 "cells": [
  {
   "cell_type": "code",
   "execution_count": 26,
   "id": "5ab41c70",
   "metadata": {},
   "outputs": [],
   "source": [
    "import tensorflow as tf\n",
    "import pandas as pd\n",
    "import csv\n",
    "\n",
    "model =  tf.keras.models.load_model('model/efficientnetb0_dropout_fine_tuned/1')\n",
    "\n",
    "file = open(\"model/food_101_classes.csv\", \"r\")\n",
    "\n",
    "class_names = list(csv.reader(file, delimiter=\"\\n\"))\n",
    "\n",
    "file.close()\n",
    "\n",
    "# make predictions on custom image\n",
    "custom_img = 'grilled-salmon.jpeg'\n"
   ]
  },
  {
   "cell_type": "code",
   "execution_count": 84,
   "id": "a79d8c05",
   "metadata": {},
   "outputs": [],
   "source": [
    "def load_and_prep_image(filename=custom_img):\n",
    "    # read the image\n",
    "    raw = tf.io.read_file(filename)\n",
    "\n",
    "    # decode the image\n",
    "    img = tf.io.decode_image(raw, channels=3)\n",
    "\n",
    "    # resize the image\n",
    "    img = tf.image.resize(img, [224, 224])\n",
    "\n",
    "    return tf.cast(img, tf.float32)\n",
    "\n",
    "def make_prediction(img):\n",
    "\n",
    "    pred_prob = model.predict(tf.expand_dims(img, axis=0))    \n",
    "    top_5_pred = (pred_prob.argsort())[0][-5:][::-1]    \n",
    "    labels = []    \n",
    "    probs = []\n",
    "\n",
    "    for x in range(5):\n",
    "        label = str(class_names[top_5_pred[x]]).replace('[\\'',\"\").replace('\\']',\"\")\n",
    "        labels.append(label)        \n",
    "        probs.append(float(f'{(pred_prob[0][top_5_pred[x]])*100:.2f}'))\n",
    "    \n",
    "    return labels, probs"
   ]
  },
  {
   "cell_type": "code",
   "execution_count": 85,
   "id": "d1f67150",
   "metadata": {},
   "outputs": [],
   "source": [
    "img = load_and_prep_image()\n",
    "\n",
    "labels, pred_probs = make_prediction(img)"
   ]
  },
  {
   "cell_type": "code",
   "execution_count": 66,
   "id": "a8f61888",
   "metadata": {},
   "outputs": [
    {
     "data": {
      "text/plain": [
       "['grilled_salmon', 'omelette', 'garlic_bread', 'pizza', 'lasagna']"
      ]
     },
     "execution_count": 66,
     "metadata": {},
     "output_type": "execute_result"
    }
   ],
   "source": [
    "labels"
   ]
  },
  {
   "cell_type": "code",
   "execution_count": 86,
   "id": "a7a240f6",
   "metadata": {},
   "outputs": [
    {
     "data": {
      "text/plain": [
       "[80.96, 11.7, 2.45, 2.29, 1.71]"
      ]
     },
     "execution_count": 86,
     "metadata": {},
     "output_type": "execute_result"
    }
   ],
   "source": [
    "pred_probs"
   ]
  },
  {
   "cell_type": "code",
   "execution_count": null,
   "id": "45fd03dd",
   "metadata": {},
   "outputs": [],
   "source": []
  }
 ],
 "metadata": {
  "kernelspec": {
   "display_name": "Python 3 (ipykernel)",
   "language": "python",
   "name": "python3"
  },
  "language_info": {
   "codemirror_mode": {
    "name": "ipython",
    "version": 3
   },
   "file_extension": ".py",
   "mimetype": "text/x-python",
   "name": "python",
   "nbconvert_exporter": "python",
   "pygments_lexer": "ipython3",
   "version": "3.9.12"
  }
 },
 "nbformat": 4,
 "nbformat_minor": 5
}
